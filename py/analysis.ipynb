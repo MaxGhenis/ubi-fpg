{
 "metadata": {
  "language_info": {
   "codemirror_mode": {
    "name": "ipython",
    "version": 3
   },
   "file_extension": ".py",
   "mimetype": "text/x-python",
   "name": "python",
   "nbconvert_exporter": "python",
   "pygments_lexer": "ipython3",
   "version": "3.7.7"
  },
  "orig_nbformat": 2,
  "kernelspec": {
   "name": "python377jvsc74a57bd04a68920d8e8856d089b03c157a7384bba62e0986489c1fa381bbe538cda0922c",
   "display_name": "Python 3.7.7 64-bit ('base': conda)"
  }
 },
 "nbformat": 4,
 "nbformat_minor": 2,
 "cells": [
  {
   "cell_type": "code",
   "execution_count": 38,
   "metadata": {},
   "outputs": [],
   "source": [
    "import pandas as pd\n",
    "import numpy as np\n",
    "import microdf as mdf\n",
    "\n",
    "p = pd.read_csv(\"../data/asec_2019_ipums.csv.gz\")\n",
    "\n",
    "# Preprocess\n",
    "p.columns = p.columns.str.lower()\n",
    "\n",
    "# Replace NIU codes.\n",
    "NIU_CODES = {\n",
    "    \"adjginc\": 99999999,\n",
    "    \"offtotval\": 9999999999,\n",
    "    # Secondary individuals under 15 have NIU for cutoff.\n",
    "    # We set them to zero as to give them no UBI\n",
    "    # (they're still part of SPM units with others who get UBI).\n",
    "    \"cutoff\": 999999,\n",
    "}\n",
    "for column, niu in NIU_CODES.items():\n",
    "    p[column].replace({niu: 0}, inplace=True)\n",
    "\n",
    "p[\"fam\"] = p.marbasecidh.astype(str) + \"-\" + p.famid.astype(str)\n",
    "\n",
    "# Create aggregates.\n",
    "\n",
    "# Family: note families are assigned only to one SPM unit.\n",
    "f = p.groupby([\"fam\", \"cutoff\", \"offtotval\", \"spmfamunit\"]).adjginc.sum().reset_index().rename(columns={\"adjginc\": \"fam_adjginc\"})\n",
    "\n",
    "# SPM unit, with all SPM characteristics.\n",
    "s = p[['spmlunch', 'spmcaphous', 'spmwt', 'spmeitc',\n",
    "       'spmwic', 'spmheat', 'spmsnap', 'spmtotres', 'spmthresh', 'spmfamunit']].drop_duplicates()"
   ]
  },
  {
   "cell_type": "code",
   "execution_count": 39,
   "metadata": {},
   "outputs": [
    {
     "output_type": "execute_result",
     "data": {
      "text/plain": [
       "        spmlunch  spmcaphous    spmwt  spmeitc  spmwic  spmheat  spmsnap  \\\n",
       "0              0         0.0  1552.90        0     0.0      0.0        0   \n",
       "2              0         0.0   990.49        0     0.0      0.0        0   \n",
       "4              0         0.0  1505.27        0     0.0      0.0        0   \n",
       "5              0         0.0  1430.70      529     0.0      0.0      720   \n",
       "7              0         0.0  1133.37        0     0.0      0.0        0   \n",
       "...          ...         ...      ...      ...     ...      ...      ...   \n",
       "157953         0         0.0   486.02        0     0.0      0.0        0   \n",
       "157954         0         0.0   444.18        0     0.0      0.0        0   \n",
       "157955         0         0.0   388.29      244     0.0      0.0        0   \n",
       "157956         0      7042.0   494.05        0     0.0    200.0        0   \n",
       "157957       643         0.0   423.84        0     0.0      0.0        0   \n",
       "\n",
       "        spmtotres  spmthresh  spmfamunit  \n",
       "0         86459.0    14700.0        1001  \n",
       "2         55275.0    14700.0        2001  \n",
       "4         28653.0    11920.0        3001  \n",
       "5          6989.0    16630.0        4001  \n",
       "7         44730.0    27520.0        5001  \n",
       "...           ...        ...         ...  \n",
       "157953    17428.0    14770.0    91497001  \n",
       "157954    42819.0    14770.0    91498001  \n",
       "157955    -3574.0    14770.0    91498003  \n",
       "157956    20868.0    17800.0    91499001  \n",
       "157957    77447.0    27260.0    91500001  \n",
       "\n",
       "[63092 rows x 10 columns]"
      ],
      "text/html": "<div>\n<style scoped>\n    .dataframe tbody tr th:only-of-type {\n        vertical-align: middle;\n    }\n\n    .dataframe tbody tr th {\n        vertical-align: top;\n    }\n\n    .dataframe thead th {\n        text-align: right;\n    }\n</style>\n<table border=\"1\" class=\"dataframe\">\n  <thead>\n    <tr style=\"text-align: right;\">\n      <th></th>\n      <th>spmlunch</th>\n      <th>spmcaphous</th>\n      <th>spmwt</th>\n      <th>spmeitc</th>\n      <th>spmwic</th>\n      <th>spmheat</th>\n      <th>spmsnap</th>\n      <th>spmtotres</th>\n      <th>spmthresh</th>\n      <th>spmfamunit</th>\n    </tr>\n  </thead>\n  <tbody>\n    <tr>\n      <th>0</th>\n      <td>0</td>\n      <td>0.0</td>\n      <td>1552.90</td>\n      <td>0</td>\n      <td>0.0</td>\n      <td>0.0</td>\n      <td>0</td>\n      <td>86459.0</td>\n      <td>14700.0</td>\n      <td>1001</td>\n    </tr>\n    <tr>\n      <th>2</th>\n      <td>0</td>\n      <td>0.0</td>\n      <td>990.49</td>\n      <td>0</td>\n      <td>0.0</td>\n      <td>0.0</td>\n      <td>0</td>\n      <td>55275.0</td>\n      <td>14700.0</td>\n      <td>2001</td>\n    </tr>\n    <tr>\n      <th>4</th>\n      <td>0</td>\n      <td>0.0</td>\n      <td>1505.27</td>\n      <td>0</td>\n      <td>0.0</td>\n      <td>0.0</td>\n      <td>0</td>\n      <td>28653.0</td>\n      <td>11920.0</td>\n      <td>3001</td>\n    </tr>\n    <tr>\n      <th>5</th>\n      <td>0</td>\n      <td>0.0</td>\n      <td>1430.70</td>\n      <td>529</td>\n      <td>0.0</td>\n      <td>0.0</td>\n      <td>720</td>\n      <td>6989.0</td>\n      <td>16630.0</td>\n      <td>4001</td>\n    </tr>\n    <tr>\n      <th>7</th>\n      <td>0</td>\n      <td>0.0</td>\n      <td>1133.37</td>\n      <td>0</td>\n      <td>0.0</td>\n      <td>0.0</td>\n      <td>0</td>\n      <td>44730.0</td>\n      <td>27520.0</td>\n      <td>5001</td>\n    </tr>\n    <tr>\n      <th>...</th>\n      <td>...</td>\n      <td>...</td>\n      <td>...</td>\n      <td>...</td>\n      <td>...</td>\n      <td>...</td>\n      <td>...</td>\n      <td>...</td>\n      <td>...</td>\n      <td>...</td>\n    </tr>\n    <tr>\n      <th>157953</th>\n      <td>0</td>\n      <td>0.0</td>\n      <td>486.02</td>\n      <td>0</td>\n      <td>0.0</td>\n      <td>0.0</td>\n      <td>0</td>\n      <td>17428.0</td>\n      <td>14770.0</td>\n      <td>91497001</td>\n    </tr>\n    <tr>\n      <th>157954</th>\n      <td>0</td>\n      <td>0.0</td>\n      <td>444.18</td>\n      <td>0</td>\n      <td>0.0</td>\n      <td>0.0</td>\n      <td>0</td>\n      <td>42819.0</td>\n      <td>14770.0</td>\n      <td>91498001</td>\n    </tr>\n    <tr>\n      <th>157955</th>\n      <td>0</td>\n      <td>0.0</td>\n      <td>388.29</td>\n      <td>244</td>\n      <td>0.0</td>\n      <td>0.0</td>\n      <td>0</td>\n      <td>-3574.0</td>\n      <td>14770.0</td>\n      <td>91498003</td>\n    </tr>\n    <tr>\n      <th>157956</th>\n      <td>0</td>\n      <td>7042.0</td>\n      <td>494.05</td>\n      <td>0</td>\n      <td>0.0</td>\n      <td>200.0</td>\n      <td>0</td>\n      <td>20868.0</td>\n      <td>17800.0</td>\n      <td>91499001</td>\n    </tr>\n    <tr>\n      <th>157957</th>\n      <td>643</td>\n      <td>0.0</td>\n      <td>423.84</td>\n      <td>0</td>\n      <td>0.0</td>\n      <td>0.0</td>\n      <td>0</td>\n      <td>77447.0</td>\n      <td>27260.0</td>\n      <td>91500001</td>\n    </tr>\n  </tbody>\n</table>\n<p>63092 rows × 10 columns</p>\n</div>"
     },
     "metadata": {},
     "execution_count": 39
    }
   ],
   "source": [
    "s"
   ]
  },
  {
   "cell_type": "code",
   "execution_count": 2,
   "metadata": {},
   "outputs": [
    {
     "output_type": "execute_result",
     "data": {
      "text/plain": [
       "Index(['year', 'serial', 'month', 'cpsid', 'asecflag', 'asecwth',\n",
       "       'marbasecidh', 'pernum', 'cpsidp', 'asecwt', 'age', 'race',\n",
       "       'marbasecidp', 'famid', 'inctot', 'incwelfr', 'adjginc', 'offtotval',\n",
       "       'offcutoff', 'cutoff', 'spmlunch', 'spmcaphous', 'spmwt', 'spmeitc',\n",
       "       'spmwic', 'spmheat', 'spmsnap', 'spmtotres', 'spmthresh', 'spmfamunit',\n",
       "       'fam'],\n",
       "      dtype='object')"
      ]
     },
     "metadata": {},
     "execution_count": 2
    }
   ],
   "source": [
    "p.columns"
   ]
  },
  {
   "cell_type": "code",
   "execution_count": 115,
   "metadata": {},
   "outputs": [],
   "source": [
    "def phase_out(amount, rate, respect_to):\n",
    "    return np.maximum(0, amount - respect_to * rate)\n",
    "\n",
    "\n",
    "def ubi_fpg(phase_out_rate=0, respect_to=\"offtotval\", repeal_bens=None):\n",
    "    f[\"chg\"] = phase_out(f.cutoff, phase_out_rate, np.maximum(0, f[respect_to]))\n",
    "    s2 = s.merge(f.groupby(\"spmfamunit\").chg.sum().reset_index(), on=\"spmfamunit\")\n",
    "    if repeal_bens is not None and repeal_bens != [\"\"]:\n",
    "        s2.chg -= s2[repeal_bens].sum(axis=1)\n",
    "    s2.spmtotres += s2.chg\n",
    "    p2 = p.drop(columns=\"spmtotres\").merge(s2[[\"spmtotres\", \"spmfamunit\"]], on=\"spmfamunit\")\n",
    "    pov = mdf.poverty_rate(p2, \"spmtotres\", \"spmthresh\", \"asecwt\")\n",
    "    cost = mdf.weighted_sum(s2, \"chg\", \"spmwt\")\n",
    "    return pd.Series({\"poverty\": pov, \"cost\": cost})"
   ]
  },
  {
   "cell_type": "code",
   "execution_count": 116,
   "metadata": {},
   "outputs": [
    {
     "output_type": "execute_result",
     "data": {
      "text/plain": [
       "   phase_out               repeal_bens   poverty          cost\n",
       "0        inf                            0.117132  0.000000e+00\n",
       "1        inf  spmlunch,spmsnap,spmeitc  0.143566 -7.752553e+10\n",
       "2       0.50                            0.031919  3.442652e+11\n",
       "3       0.50  spmlunch,spmsnap,spmeitc  0.040664  2.667397e+11\n",
       "4       0.25                            0.018187  7.552311e+11\n",
       "5       0.25  spmlunch,spmsnap,spmeitc  0.021952  6.777056e+11\n",
       "6       0.00                            0.013046  2.708504e+12\n",
       "7       0.00  spmlunch,spmsnap,spmeitc  0.015262  2.630979e+12"
      ],
      "text/html": "<div>\n<style scoped>\n    .dataframe tbody tr th:only-of-type {\n        vertical-align: middle;\n    }\n\n    .dataframe tbody tr th {\n        vertical-align: top;\n    }\n\n    .dataframe thead th {\n        text-align: right;\n    }\n</style>\n<table border=\"1\" class=\"dataframe\">\n  <thead>\n    <tr style=\"text-align: right;\">\n      <th></th>\n      <th>phase_out</th>\n      <th>repeal_bens</th>\n      <th>poverty</th>\n      <th>cost</th>\n    </tr>\n  </thead>\n  <tbody>\n    <tr>\n      <th>0</th>\n      <td>inf</td>\n      <td></td>\n      <td>0.117132</td>\n      <td>0.000000e+00</td>\n    </tr>\n    <tr>\n      <th>1</th>\n      <td>inf</td>\n      <td>spmlunch,spmsnap,spmeitc</td>\n      <td>0.143566</td>\n      <td>-7.752553e+10</td>\n    </tr>\n    <tr>\n      <th>2</th>\n      <td>0.50</td>\n      <td></td>\n      <td>0.031919</td>\n      <td>3.442652e+11</td>\n    </tr>\n    <tr>\n      <th>3</th>\n      <td>0.50</td>\n      <td>spmlunch,spmsnap,spmeitc</td>\n      <td>0.040664</td>\n      <td>2.667397e+11</td>\n    </tr>\n    <tr>\n      <th>4</th>\n      <td>0.25</td>\n      <td></td>\n      <td>0.018187</td>\n      <td>7.552311e+11</td>\n    </tr>\n    <tr>\n      <th>5</th>\n      <td>0.25</td>\n      <td>spmlunch,spmsnap,spmeitc</td>\n      <td>0.021952</td>\n      <td>6.777056e+11</td>\n    </tr>\n    <tr>\n      <th>6</th>\n      <td>0.00</td>\n      <td></td>\n      <td>0.013046</td>\n      <td>2.708504e+12</td>\n    </tr>\n    <tr>\n      <th>7</th>\n      <td>0.00</td>\n      <td>spmlunch,spmsnap,spmeitc</td>\n      <td>0.015262</td>\n      <td>2.630979e+12</td>\n    </tr>\n  </tbody>\n</table>\n</div>"
     },
     "metadata": {},
     "execution_count": 116
    }
   ],
   "source": [
    "\n",
    "sim = mdf.cartesian_product({\"phase_out\": [np.inf, 0.5, 0.25, 0], \"repeal_bens\": [\"\", \"spmlunch,spmsnap,spmeitc\"]})\n",
    "sim = pd.concat([sim, sim.apply(lambda x: ubi_fpg(x.phase_out, repeal_bens=x.repeal_bens.split(\",\")), axis=1)], axis=1)\n",
    "sim\n",
    "# pd.Series(PHASE_OUTS, index=PHASE_OUTS).apply(ubi_fpg).reset_index()\n",
    "# ubi_fpg(np.inf)"
   ]
  },
  {
   "cell_type": "code",
   "execution_count": 55,
   "metadata": {},
   "outputs": [
    {
     "output_type": "execute_result",
     "data": {
      "text/plain": [
       "1"
      ]
     },
     "metadata": {},
     "execution_count": 55
    }
   ],
   "source": [
    "c.groupby(\"fam\").spmfamunit.nunique().max()"
   ]
  },
  {
   "cell_type": "code",
   "execution_count": 57,
   "metadata": {},
   "outputs": [
    {
     "output_type": "execute_result",
     "data": {
      "text/plain": [
       "8"
      ]
     },
     "metadata": {},
     "execution_count": 57
    }
   ],
   "source": [
    "c.groupby(\"spmfamunit\").fam.nunique().max()"
   ]
  },
  {
   "cell_type": "code",
   "execution_count": 29,
   "metadata": {},
   "outputs": [
    {
     "output_type": "execute_result",
     "data": {
      "text/plain": [
       "Index(['year', 'serial', 'month', 'cpsid', 'asecflag', 'asecwth', 'pernum',\n",
       "       'cpsidp', 'asecwt', 'age', 'race', 'famid', 'inctot', 'incwelfr',\n",
       "       'adjginc', 'offtotval', 'offcutoff', 'cutoff', 'spmlunch', 'spmcaphous',\n",
       "       'spmwt', 'spmeitc', 'spmwic', 'spmheat', 'spmsnap', 'spmtotres',\n",
       "       'spmthresh', 'spmfamunit'],\n",
       "      dtype='object')"
      ]
     },
     "metadata": {},
     "execution_count": 29
    }
   ],
   "source": [
    "c.columns"
   ]
  },
  {
   "cell_type": "code",
   "execution_count": null,
   "metadata": {},
   "outputs": [],
   "source": [
    "pd.read_csv()"
   ]
  },
  {
   "cell_type": "code",
   "execution_count": 60,
   "metadata": {},
   "outputs": [
    {
     "output_type": "execute_result",
     "data": {
      "text/plain": [
       "                 fam  offcutoff  offtotval\n",
       "118006  1120175155-1      17622      45015\n",
       "118007  1120175155-1      17622      45015\n",
       "118008  1120175155-2      13300      35007"
      ],
      "text/html": "<div>\n<style scoped>\n    .dataframe tbody tr th:only-of-type {\n        vertical-align: middle;\n    }\n\n    .dataframe tbody tr th {\n        vertical-align: top;\n    }\n\n    .dataframe thead th {\n        text-align: right;\n    }\n</style>\n<table border=\"1\" class=\"dataframe\">\n  <thead>\n    <tr style=\"text-align: right;\">\n      <th></th>\n      <th>fam</th>\n      <th>offcutoff</th>\n      <th>offtotval</th>\n    </tr>\n  </thead>\n  <tbody>\n    <tr>\n      <th>118006</th>\n      <td>1120175155-1</td>\n      <td>17622</td>\n      <td>45015</td>\n    </tr>\n    <tr>\n      <th>118007</th>\n      <td>1120175155-1</td>\n      <td>17622</td>\n      <td>45015</td>\n    </tr>\n    <tr>\n      <th>118008</th>\n      <td>1120175155-2</td>\n      <td>13300</td>\n      <td>35007</td>\n    </tr>\n  </tbody>\n</table>\n</div>"
     },
     "metadata": {},
     "execution_count": 60
    }
   ],
   "source": [
    "c[c.cpsid == 20200307030400][[\"fam\", \"offcutoff\", \"offtotval\"]]"
   ]
  },
  {
   "source": [
    "* Aggregate to family and SPM unit\n",
    "* Determine "
   ],
   "cell_type": "markdown",
   "metadata": {}
  },
  {
   "cell_type": "code",
   "execution_count": 22,
   "metadata": {},
   "outputs": [
    {
     "output_type": "execute_result",
     "data": {
      "text/plain": [
       "53081"
      ]
     },
     "metadata": {},
     "execution_count": 22
    }
   ],
   "source": [
    "c.groupby(\"cpsidp\").size().max()"
   ]
  },
  {
   "cell_type": "code",
   "execution_count": 7,
   "metadata": {},
   "outputs": [
    {
     "output_type": "execute_result",
     "data": {
      "text/plain": [
       "offcutoff\n",
       "12261      7520\n",
       "13300     18105\n",
       "15453     13728\n",
       "17120     17512\n",
       "17555       140\n",
       "17622      4172\n",
       "19998     10284\n",
       "20578     13035\n",
       "20598      4389\n",
       "25926     20400\n",
       "26017      2336\n",
       "26370      4816\n",
       "26801      6720\n",
       "30044       840\n",
       "30510     10030\n",
       "31275      4465\n",
       "31800      1415\n",
       "32263      2645\n",
       "33522       294\n",
       "34161      3756\n",
       "35239      1968\n",
       "35965      1878\n",
       "36576       312\n",
       "36721       798\n",
       "36757        91\n",
       "38262      1092\n",
       "39635       707\n",
       "40811       735\n",
       "41442       483\n",
       "41709        56\n",
       "42066       384\n",
       "42085        84\n",
       "42348       245\n",
       "43470       232\n",
       "44818       304\n",
       "45881       200\n",
       "46630       176\n",
       "47069        24\n",
       "47485        56\n",
       "49426       162\n",
       "51406       245\n",
       "51727       189\n",
       "53025       252\n",
       "54460       163\n",
       "55503        93\n",
       "56139        75\n",
       "56621        19\n",
       "56895        37\n",
       "999999      297\n",
       "dtype: int64"
      ]
     },
     "metadata": {},
     "execution_count": 7
    }
   ],
   "source": [
    "c.groupby(\"offcutoff\").size().sort_index()"
   ]
  },
  {
   "cell_type": "code",
   "execution_count": 9,
   "metadata": {},
   "outputs": [
    {
     "output_type": "execute_result",
     "data": {
      "text/plain": [
       "cutoff\n",
       "12261      7520\n",
       "13300     18105\n",
       "15453     13728\n",
       "17120     17512\n",
       "17555       140\n",
       "17622      4172\n",
       "19998     10284\n",
       "20578     13035\n",
       "20598      4389\n",
       "25926     20400\n",
       "26017      2336\n",
       "26370      4816\n",
       "26801      6720\n",
       "30044       840\n",
       "30510     10030\n",
       "31275      4465\n",
       "31800      1415\n",
       "32263      2645\n",
       "33522       294\n",
       "34161      3756\n",
       "35239      1968\n",
       "35965      1878\n",
       "36576       312\n",
       "36721       798\n",
       "36757        91\n",
       "38262      1092\n",
       "39635       707\n",
       "40811       735\n",
       "41442       483\n",
       "41709        56\n",
       "42066       384\n",
       "42085        84\n",
       "42348       245\n",
       "43470       232\n",
       "44818       304\n",
       "45881       200\n",
       "46630       176\n",
       "47069        24\n",
       "47485        56\n",
       "49426       162\n",
       "51406       245\n",
       "51727       189\n",
       "53025       252\n",
       "54460       163\n",
       "55503        93\n",
       "56139        75\n",
       "56621        19\n",
       "56895        37\n",
       "999999      297\n",
       "dtype: int64"
      ]
     },
     "metadata": {},
     "execution_count": 9
    }
   ],
   "source": [
    "c.groupby(\"cutoff\").size().sort_index()"
   ]
  }
 ]
}