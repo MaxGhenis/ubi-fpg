{
 "metadata": {
  "language_info": {
   "codemirror_mode": {
    "name": "ipython",
    "version": 3
   },
   "file_extension": ".py",
   "mimetype": "text/x-python",
   "name": "python",
   "nbconvert_exporter": "python",
   "pygments_lexer": "ipython3",
   "version": "3.9.2"
  },
  "orig_nbformat": 2,
  "kernelspec": {
   "name": "python392jvsc74a57bd030309267bb9f9c25c0b346dc9178e4dd2956022b75ab5144ad14e93ab5bd5e69",
   "display_name": "Python 3.9.2 64-bit ('calc': conda)"
  }
 },
 "nbformat": 4,
 "nbformat_minor": 2,
 "cells": [
  {
   "cell_type": "code",
   "execution_count": 2,
   "metadata": {},
   "outputs": [
    {
     "output_type": "execute_result",
     "data": {
      "text/plain": [
       "        year  serial  month           cpsid  asecflag  asecwth  pernum  \\\n",
       "0       2020       1      3  20190302844900         1  1552.90       1   \n",
       "1       2020       1      3  20190302844900         1  1552.90       2   \n",
       "2       2020       2      3  20181202843500         1   990.49       1   \n",
       "3       2020       2      3  20181202843500         1   990.49       2   \n",
       "4       2020       3      3  20190202831700         1  1505.27       1   \n",
       "...      ...     ...    ...             ...       ...      ...     ...   \n",
       "157954  2020   91498      3               0         1   444.18       1   \n",
       "157955  2020   91498      3               0         1   444.18       2   \n",
       "157956  2020   91499      3               0         1   494.05       1   \n",
       "157957  2020   91500      3               0         1   423.84       1   \n",
       "157958  2020   91500      3               0         1   423.84       2   \n",
       "\n",
       "                cpsidp   asecwt  age  ...  offcutoff  cutoff  spmcaphous  \\\n",
       "0       20190302844901  1552.90   63  ...      17120   17120         0.0   \n",
       "1       20190302844902  1552.90   67  ...      17120   17120         0.0   \n",
       "2       20181202843501   990.49   64  ...      17120   17120         0.0   \n",
       "3       20181202843502   990.49   71  ...      17120   17120         0.0   \n",
       "4       20190202831701  1505.27   54  ...      13300   13300         0.0   \n",
       "...                ...      ...  ...  ...        ...     ...         ...   \n",
       "157954               0   444.18   72  ...      12261   12261         0.0   \n",
       "157955               0   388.29   50  ...      13300   13300         0.0   \n",
       "157956               0   494.05   80  ...      12261   12261      7042.0   \n",
       "157957               0   423.84   55  ...      17622   17622         0.0   \n",
       "157958               0   761.16   12  ...      17622   17622         0.0   \n",
       "\n",
       "          spmwt  spmwic  spmheat  spmsnap  spmtotres  spmthresh  spmfamunit  \n",
       "0       1552.90     0.0      0.0        0    86459.0    14700.0        1001  \n",
       "1       1552.90     0.0      0.0        0    86459.0    14700.0        1001  \n",
       "2        990.49     0.0      0.0        0    55275.0    14700.0        2001  \n",
       "3        990.49     0.0      0.0        0    55275.0    14700.0        2001  \n",
       "4       1505.27     0.0      0.0        0    28653.0    11920.0        3001  \n",
       "...         ...     ...      ...      ...        ...        ...         ...  \n",
       "157954   444.18     0.0      0.0        0    42819.0    14770.0    91498001  \n",
       "157955   388.29     0.0      0.0        0    -3574.0    14770.0    91498003  \n",
       "157956   494.05     0.0    200.0        0    20868.0    17800.0    91499001  \n",
       "157957   423.84     0.0      0.0        0    77447.0    27260.0    91500001  \n",
       "157958   423.84     0.0      0.0        0    77447.0    27260.0    91500001  \n",
       "\n",
       "[157959 rows x 23 columns]"
      ],
      "text/html": "<div>\n<style scoped>\n    .dataframe tbody tr th:only-of-type {\n        vertical-align: middle;\n    }\n\n    .dataframe tbody tr th {\n        vertical-align: top;\n    }\n\n    .dataframe thead th {\n        text-align: right;\n    }\n</style>\n<table border=\"1\" class=\"dataframe\">\n  <thead>\n    <tr style=\"text-align: right;\">\n      <th></th>\n      <th>year</th>\n      <th>serial</th>\n      <th>month</th>\n      <th>cpsid</th>\n      <th>asecflag</th>\n      <th>asecwth</th>\n      <th>pernum</th>\n      <th>cpsidp</th>\n      <th>asecwt</th>\n      <th>age</th>\n      <th>...</th>\n      <th>offcutoff</th>\n      <th>cutoff</th>\n      <th>spmcaphous</th>\n      <th>spmwt</th>\n      <th>spmwic</th>\n      <th>spmheat</th>\n      <th>spmsnap</th>\n      <th>spmtotres</th>\n      <th>spmthresh</th>\n      <th>spmfamunit</th>\n    </tr>\n  </thead>\n  <tbody>\n    <tr>\n      <th>0</th>\n      <td>2020</td>\n      <td>1</td>\n      <td>3</td>\n      <td>20190302844900</td>\n      <td>1</td>\n      <td>1552.90</td>\n      <td>1</td>\n      <td>20190302844901</td>\n      <td>1552.90</td>\n      <td>63</td>\n      <td>...</td>\n      <td>17120</td>\n      <td>17120</td>\n      <td>0.0</td>\n      <td>1552.90</td>\n      <td>0.0</td>\n      <td>0.0</td>\n      <td>0</td>\n      <td>86459.0</td>\n      <td>14700.0</td>\n      <td>1001</td>\n    </tr>\n    <tr>\n      <th>1</th>\n      <td>2020</td>\n      <td>1</td>\n      <td>3</td>\n      <td>20190302844900</td>\n      <td>1</td>\n      <td>1552.90</td>\n      <td>2</td>\n      <td>20190302844902</td>\n      <td>1552.90</td>\n      <td>67</td>\n      <td>...</td>\n      <td>17120</td>\n      <td>17120</td>\n      <td>0.0</td>\n      <td>1552.90</td>\n      <td>0.0</td>\n      <td>0.0</td>\n      <td>0</td>\n      <td>86459.0</td>\n      <td>14700.0</td>\n      <td>1001</td>\n    </tr>\n    <tr>\n      <th>2</th>\n      <td>2020</td>\n      <td>2</td>\n      <td>3</td>\n      <td>20181202843500</td>\n      <td>1</td>\n      <td>990.49</td>\n      <td>1</td>\n      <td>20181202843501</td>\n      <td>990.49</td>\n      <td>64</td>\n      <td>...</td>\n      <td>17120</td>\n      <td>17120</td>\n      <td>0.0</td>\n      <td>990.49</td>\n      <td>0.0</td>\n      <td>0.0</td>\n      <td>0</td>\n      <td>55275.0</td>\n      <td>14700.0</td>\n      <td>2001</td>\n    </tr>\n    <tr>\n      <th>3</th>\n      <td>2020</td>\n      <td>2</td>\n      <td>3</td>\n      <td>20181202843500</td>\n      <td>1</td>\n      <td>990.49</td>\n      <td>2</td>\n      <td>20181202843502</td>\n      <td>990.49</td>\n      <td>71</td>\n      <td>...</td>\n      <td>17120</td>\n      <td>17120</td>\n      <td>0.0</td>\n      <td>990.49</td>\n      <td>0.0</td>\n      <td>0.0</td>\n      <td>0</td>\n      <td>55275.0</td>\n      <td>14700.0</td>\n      <td>2001</td>\n    </tr>\n    <tr>\n      <th>4</th>\n      <td>2020</td>\n      <td>3</td>\n      <td>3</td>\n      <td>20190202831700</td>\n      <td>1</td>\n      <td>1505.27</td>\n      <td>1</td>\n      <td>20190202831701</td>\n      <td>1505.27</td>\n      <td>54</td>\n      <td>...</td>\n      <td>13300</td>\n      <td>13300</td>\n      <td>0.0</td>\n      <td>1505.27</td>\n      <td>0.0</td>\n      <td>0.0</td>\n      <td>0</td>\n      <td>28653.0</td>\n      <td>11920.0</td>\n      <td>3001</td>\n    </tr>\n    <tr>\n      <th>...</th>\n      <td>...</td>\n      <td>...</td>\n      <td>...</td>\n      <td>...</td>\n      <td>...</td>\n      <td>...</td>\n      <td>...</td>\n      <td>...</td>\n      <td>...</td>\n      <td>...</td>\n      <td>...</td>\n      <td>...</td>\n      <td>...</td>\n      <td>...</td>\n      <td>...</td>\n      <td>...</td>\n      <td>...</td>\n      <td>...</td>\n      <td>...</td>\n      <td>...</td>\n      <td>...</td>\n    </tr>\n    <tr>\n      <th>157954</th>\n      <td>2020</td>\n      <td>91498</td>\n      <td>3</td>\n      <td>0</td>\n      <td>1</td>\n      <td>444.18</td>\n      <td>1</td>\n      <td>0</td>\n      <td>444.18</td>\n      <td>72</td>\n      <td>...</td>\n      <td>12261</td>\n      <td>12261</td>\n      <td>0.0</td>\n      <td>444.18</td>\n      <td>0.0</td>\n      <td>0.0</td>\n      <td>0</td>\n      <td>42819.0</td>\n      <td>14770.0</td>\n      <td>91498001</td>\n    </tr>\n    <tr>\n      <th>157955</th>\n      <td>2020</td>\n      <td>91498</td>\n      <td>3</td>\n      <td>0</td>\n      <td>1</td>\n      <td>444.18</td>\n      <td>2</td>\n      <td>0</td>\n      <td>388.29</td>\n      <td>50</td>\n      <td>...</td>\n      <td>13300</td>\n      <td>13300</td>\n      <td>0.0</td>\n      <td>388.29</td>\n      <td>0.0</td>\n      <td>0.0</td>\n      <td>0</td>\n      <td>-3574.0</td>\n      <td>14770.0</td>\n      <td>91498003</td>\n    </tr>\n    <tr>\n      <th>157956</th>\n      <td>2020</td>\n      <td>91499</td>\n      <td>3</td>\n      <td>0</td>\n      <td>1</td>\n      <td>494.05</td>\n      <td>1</td>\n      <td>0</td>\n      <td>494.05</td>\n      <td>80</td>\n      <td>...</td>\n      <td>12261</td>\n      <td>12261</td>\n      <td>7042.0</td>\n      <td>494.05</td>\n      <td>0.0</td>\n      <td>200.0</td>\n      <td>0</td>\n      <td>20868.0</td>\n      <td>17800.0</td>\n      <td>91499001</td>\n    </tr>\n    <tr>\n      <th>157957</th>\n      <td>2020</td>\n      <td>91500</td>\n      <td>3</td>\n      <td>0</td>\n      <td>1</td>\n      <td>423.84</td>\n      <td>1</td>\n      <td>0</td>\n      <td>423.84</td>\n      <td>55</td>\n      <td>...</td>\n      <td>17622</td>\n      <td>17622</td>\n      <td>0.0</td>\n      <td>423.84</td>\n      <td>0.0</td>\n      <td>0.0</td>\n      <td>0</td>\n      <td>77447.0</td>\n      <td>27260.0</td>\n      <td>91500001</td>\n    </tr>\n    <tr>\n      <th>157958</th>\n      <td>2020</td>\n      <td>91500</td>\n      <td>3</td>\n      <td>0</td>\n      <td>1</td>\n      <td>423.84</td>\n      <td>2</td>\n      <td>0</td>\n      <td>761.16</td>\n      <td>12</td>\n      <td>...</td>\n      <td>17622</td>\n      <td>17622</td>\n      <td>0.0</td>\n      <td>423.84</td>\n      <td>0.0</td>\n      <td>0.0</td>\n      <td>0</td>\n      <td>77447.0</td>\n      <td>27260.0</td>\n      <td>91500001</td>\n    </tr>\n  </tbody>\n</table>\n<p>157959 rows × 23 columns</p>\n</div>"
     },
     "metadata": {},
     "execution_count": 2
    }
   ],
   "source": [
    "import pandas as pd\n",
    "import numpy as np\n",
    "import microdf as mdf\n",
    "\n",
    "c = pd.read_csv(\"../data/asec_2019_ipums.csv.gz\")\n",
    "c.columns = c.columns.str.lower()\n",
    "\n",
    "c"
   ]
  },
  {
   "cell_type": "code",
   "execution_count": 8,
   "metadata": {},
   "outputs": [
    {
     "output_type": "execute_result",
     "data": {
      "text/plain": [
       "Index(['year', 'serial', 'month', 'cpsid', 'asecflag', 'asecwth', 'pernum',\n",
       "       'cpsidp', 'asecwt', 'age', 'race', 'inctot', 'offtotval', 'offcutoff',\n",
       "       'cutoff', 'spmcaphous', 'spmwt', 'spmwic', 'spmheat', 'spmsnap',\n",
       "       'spmtotres', 'spmthresh', 'spmfamunit'],\n",
       "      dtype='object')"
      ]
     },
     "metadata": {},
     "execution_count": 8
    }
   ],
   "source": [
    "c.columns"
   ]
  },
  {
   "cell_type": "code",
   "execution_count": 10,
   "metadata": {},
   "outputs": [
    {
     "output_type": "error",
     "ename": "AttributeError",
     "evalue": "'DataFrame' object has no attribute 'unique'",
     "traceback": [
      "\u001b[0;31m---------------------------------------------------------------------------\u001b[0m",
      "\u001b[0;31mAttributeError\u001b[0m                            Traceback (most recent call last)",
      "\u001b[0;32m<ipython-input-10-f612d10f4fe3>\u001b[0m in \u001b[0;36m<module>\u001b[0;34m\u001b[0m\n\u001b[0;32m----> 1\u001b[0;31m \u001b[0mc\u001b[0m\u001b[0;34m[\u001b[0m\u001b[0;34m[\u001b[0m\u001b[0;34m\"cpsidp\"\u001b[0m\u001b[0;34m,\u001b[0m \u001b[0;34m\"offcutoff\"\u001b[0m\u001b[0;34m]\u001b[0m\u001b[0;34m]\u001b[0m\u001b[0;34m.\u001b[0m\u001b[0munique\u001b[0m\u001b[0;34m(\u001b[0m\u001b[0;34m)\u001b[0m\u001b[0;34m\u001b[0m\u001b[0;34m\u001b[0m\u001b[0m\n\u001b[0m",
      "\u001b[0;32m~/anaconda3/envs/calc/lib/python3.9/site-packages/pandas/core/generic.py\u001b[0m in \u001b[0;36m__getattr__\u001b[0;34m(self, name)\u001b[0m\n\u001b[1;32m   5463\u001b[0m             \u001b[0;32mif\u001b[0m \u001b[0mself\u001b[0m\u001b[0;34m.\u001b[0m\u001b[0m_info_axis\u001b[0m\u001b[0;34m.\u001b[0m\u001b[0m_can_hold_identifiers_and_holds_name\u001b[0m\u001b[0;34m(\u001b[0m\u001b[0mname\u001b[0m\u001b[0;34m)\u001b[0m\u001b[0;34m:\u001b[0m\u001b[0;34m\u001b[0m\u001b[0;34m\u001b[0m\u001b[0m\n\u001b[1;32m   5464\u001b[0m                 \u001b[0;32mreturn\u001b[0m \u001b[0mself\u001b[0m\u001b[0;34m[\u001b[0m\u001b[0mname\u001b[0m\u001b[0;34m]\u001b[0m\u001b[0;34m\u001b[0m\u001b[0;34m\u001b[0m\u001b[0m\n\u001b[0;32m-> 5465\u001b[0;31m             \u001b[0;32mreturn\u001b[0m \u001b[0mobject\u001b[0m\u001b[0;34m.\u001b[0m\u001b[0m__getattribute__\u001b[0m\u001b[0;34m(\u001b[0m\u001b[0mself\u001b[0m\u001b[0;34m,\u001b[0m \u001b[0mname\u001b[0m\u001b[0;34m)\u001b[0m\u001b[0;34m\u001b[0m\u001b[0;34m\u001b[0m\u001b[0m\n\u001b[0m\u001b[1;32m   5466\u001b[0m \u001b[0;34m\u001b[0m\u001b[0m\n\u001b[1;32m   5467\u001b[0m     \u001b[0;32mdef\u001b[0m \u001b[0m__setattr__\u001b[0m\u001b[0;34m(\u001b[0m\u001b[0mself\u001b[0m\u001b[0;34m,\u001b[0m \u001b[0mname\u001b[0m\u001b[0;34m:\u001b[0m \u001b[0mstr\u001b[0m\u001b[0;34m,\u001b[0m \u001b[0mvalue\u001b[0m\u001b[0;34m)\u001b[0m \u001b[0;34m->\u001b[0m \u001b[0;32mNone\u001b[0m\u001b[0;34m:\u001b[0m\u001b[0;34m\u001b[0m\u001b[0;34m\u001b[0m\u001b[0m\n",
      "\u001b[0;31mAttributeError\u001b[0m: 'DataFrame' object has no attribute 'unique'"
     ]
    }
   ],
   "source": [
    "c[[\"cpsidp\", \"offcutoff\"]].unique()"
   ]
  },
  {
   "cell_type": "code",
   "execution_count": 7,
   "metadata": {},
   "outputs": [
    {
     "output_type": "execute_result",
     "data": {
      "text/plain": [
       "offcutoff\n",
       "12261      7520\n",
       "13300     18105\n",
       "15453     13728\n",
       "17120     17512\n",
       "17555       140\n",
       "17622      4172\n",
       "19998     10284\n",
       "20578     13035\n",
       "20598      4389\n",
       "25926     20400\n",
       "26017      2336\n",
       "26370      4816\n",
       "26801      6720\n",
       "30044       840\n",
       "30510     10030\n",
       "31275      4465\n",
       "31800      1415\n",
       "32263      2645\n",
       "33522       294\n",
       "34161      3756\n",
       "35239      1968\n",
       "35965      1878\n",
       "36576       312\n",
       "36721       798\n",
       "36757        91\n",
       "38262      1092\n",
       "39635       707\n",
       "40811       735\n",
       "41442       483\n",
       "41709        56\n",
       "42066       384\n",
       "42085        84\n",
       "42348       245\n",
       "43470       232\n",
       "44818       304\n",
       "45881       200\n",
       "46630       176\n",
       "47069        24\n",
       "47485        56\n",
       "49426       162\n",
       "51406       245\n",
       "51727       189\n",
       "53025       252\n",
       "54460       163\n",
       "55503        93\n",
       "56139        75\n",
       "56621        19\n",
       "56895        37\n",
       "999999      297\n",
       "dtype: int64"
      ]
     },
     "metadata": {},
     "execution_count": 7
    }
   ],
   "source": [
    "c.groupby(\"offcutoff\").size().sort_index()"
   ]
  },
  {
   "cell_type": "code",
   "execution_count": 9,
   "metadata": {},
   "outputs": [
    {
     "output_type": "execute_result",
     "data": {
      "text/plain": [
       "cutoff\n",
       "12261      7520\n",
       "13300     18105\n",
       "15453     13728\n",
       "17120     17512\n",
       "17555       140\n",
       "17622      4172\n",
       "19998     10284\n",
       "20578     13035\n",
       "20598      4389\n",
       "25926     20400\n",
       "26017      2336\n",
       "26370      4816\n",
       "26801      6720\n",
       "30044       840\n",
       "30510     10030\n",
       "31275      4465\n",
       "31800      1415\n",
       "32263      2645\n",
       "33522       294\n",
       "34161      3756\n",
       "35239      1968\n",
       "35965      1878\n",
       "36576       312\n",
       "36721       798\n",
       "36757        91\n",
       "38262      1092\n",
       "39635       707\n",
       "40811       735\n",
       "41442       483\n",
       "41709        56\n",
       "42066       384\n",
       "42085        84\n",
       "42348       245\n",
       "43470       232\n",
       "44818       304\n",
       "45881       200\n",
       "46630       176\n",
       "47069        24\n",
       "47485        56\n",
       "49426       162\n",
       "51406       245\n",
       "51727       189\n",
       "53025       252\n",
       "54460       163\n",
       "55503        93\n",
       "56139        75\n",
       "56621        19\n",
       "56895        37\n",
       "999999      297\n",
       "dtype: int64"
      ]
     },
     "metadata": {},
     "execution_count": 9
    }
   ],
   "source": [
    "c.groupby(\"cutoff\").size().sort_index()"
   ]
  }
 ]
}