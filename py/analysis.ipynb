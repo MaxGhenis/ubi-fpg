{
 "metadata": {
  "language_info": {
   "codemirror_mode": {
    "name": "ipython",
    "version": 3
   },
   "file_extension": ".py",
   "mimetype": "text/x-python",
   "name": "python",
   "nbconvert_exporter": "python",
   "pygments_lexer": "ipython3",
   "version": "3.7.7"
  },
  "orig_nbformat": 2,
  "kernelspec": {
   "name": "python377jvsc74a57bd04a68920d8e8856d089b03c157a7384bba62e0986489c1fa381bbe538cda0922c",
   "display_name": "Python 3.7.7 64-bit ('base': conda)"
  }
 },
 "nbformat": 4,
 "nbformat_minor": 2,
 "cells": [
  {
   "cell_type": "code",
   "execution_count": 10,
   "metadata": {},
   "outputs": [],
   "source": [
    "import pandas as pd\n",
    "import numpy as np\n",
    "import microdf as mdf\n",
    "\n",
    "p = pd.read_csv(\"../data/asec_2019_ipums.csv.gz\")\n",
    "\n",
    "# Preprocess\n",
    "p.columns = p.columns.str.lower()\n",
    "\n",
    "# Replace NIU codes.\n",
    "NIU_CODES = {\n",
    "    \"adjginc\": 99999999,\n",
    "    \"offtotval\": 9999999999,\n",
    "    # Secondary individuals under 15 have NIU for cutoff.\n",
    "    # We set them to zero as to give them no UBI\n",
    "    # (they're still part of SPM units with others who get UBI).\n",
    "    \"cutoff\": 999999,\n",
    "}\n",
    "for column, niu in NIU_CODES.items():\n",
    "    p[column].replace({niu: 0}, inplace=True)\n",
    "\n",
    "p[\"fam\"] = p.marbasecidh.astype(str) + \"-\" + p.famid.astype(str)"
   ]
  },
  {
   "cell_type": "code",
   "execution_count": 17,
   "metadata": {},
   "outputs": [
    {
     "output_type": "execute_result",
     "data": {
      "text/plain": [
       "        year  serial  month           cpsid  asecflag  asecwth  marbasecidh  \\\n",
       "546     2020     463      3  20200302817600         1  1327.45   1120070965   \n",
       "547     2020     463      3  20200302817600         1  1327.45   1120070965   \n",
       "1969    2020    1485      3  20190303971100         1   537.29   1120099024   \n",
       "3726    2020    2619      3  20190106442600         1   197.20   1120158841   \n",
       "4589    2020    3276      3               0         1   360.93     20002814   \n",
       "...      ...     ...    ...             ...       ...      ...          ...   \n",
       "155866  2020   90419      3  20190301965800         1   842.48   1120048939   \n",
       "155867  2020   90419      3  20190301965800         1   842.48   1120048939   \n",
       "156086  2020   90546      3               0         1   643.99     20099557   \n",
       "156254  2020   90642      3  20181201914600         1   520.05   1120047632   \n",
       "156566  2020   90817      3  20191201910400         1   502.45   1120048103   \n",
       "\n",
       "        pernum          cpsidp   asecwt  ...  spmcaphous    spmwt  spmeitc  \\\n",
       "546          3  20200302817604  1153.39  ...         0.0  1327.45     2210   \n",
       "547          4  20200302817603  1109.87  ...         0.0  1327.45     2210   \n",
       "1969         7  20190303971107   668.92  ...         0.0   537.29        0   \n",
       "3726         4  20190106442604   185.53  ...         0.0   197.20     5923   \n",
       "4589         5               0   403.53  ...         0.0   360.93        0   \n",
       "...        ...             ...      ...  ...         ...      ...      ...   \n",
       "155866       7  20190301965807   734.94  ...         0.0   842.48        0   \n",
       "155867       8  20190301965806   787.46  ...         0.0   842.48        0   \n",
       "156086       4               0   455.16  ...         0.0   643.99        0   \n",
       "156254       6  20181201914606   632.25  ...         0.0   520.05        0   \n",
       "156566       5  20191201910405   520.20  ...         0.0   502.45        0   \n",
       "\n",
       "        spmwic  spmheat  spmsnap  spmtotres  spmthresh  spmfamunit  \\\n",
       "546        0.0      0.0        0    69233.0    27420.0      463001   \n",
       "547        0.0      0.0        0    69233.0    27420.0      463001   \n",
       "1969       0.0      0.0        0   128727.0    51020.0     1091001   \n",
       "3726       0.0      0.0        0    34773.0    28450.0     2619001   \n",
       "4589       0.0      0.0        0   114229.0    40710.0     2959001   \n",
       "...        ...      ...      ...        ...        ...         ...   \n",
       "155866     0.0      0.0        0    83039.0    50180.0    90347001   \n",
       "155867     0.0      0.0        0    83039.0    50180.0    90347001   \n",
       "156086     0.0      0.0        0    41576.0    35600.0    90474001   \n",
       "156254     0.0      0.0        0   110685.0    38990.0    90642001   \n",
       "156566     0.0      0.0        0   214505.0    42340.0    90817001   \n",
       "\n",
       "                 fam  \n",
       "546     1120070965-3  \n",
       "547     1120070965-4  \n",
       "1969    1120099024-2  \n",
       "3726    1120158841-2  \n",
       "4589      20002814-2  \n",
       "...              ...  \n",
       "155866  1120048939-4  \n",
       "155867  1120048939-5  \n",
       "156086    20099557-2  \n",
       "156254  1120047632-2  \n",
       "156566  1120048103-2  \n",
       "\n",
       "[297 rows x 31 columns]"
      ],
      "text/html": "<div>\n<style scoped>\n    .dataframe tbody tr th:only-of-type {\n        vertical-align: middle;\n    }\n\n    .dataframe tbody tr th {\n        vertical-align: top;\n    }\n\n    .dataframe thead th {\n        text-align: right;\n    }\n</style>\n<table border=\"1\" class=\"dataframe\">\n  <thead>\n    <tr style=\"text-align: right;\">\n      <th></th>\n      <th>year</th>\n      <th>serial</th>\n      <th>month</th>\n      <th>cpsid</th>\n      <th>asecflag</th>\n      <th>asecwth</th>\n      <th>marbasecidh</th>\n      <th>pernum</th>\n      <th>cpsidp</th>\n      <th>asecwt</th>\n      <th>...</th>\n      <th>spmcaphous</th>\n      <th>spmwt</th>\n      <th>spmeitc</th>\n      <th>spmwic</th>\n      <th>spmheat</th>\n      <th>spmsnap</th>\n      <th>spmtotres</th>\n      <th>spmthresh</th>\n      <th>spmfamunit</th>\n      <th>fam</th>\n    </tr>\n  </thead>\n  <tbody>\n    <tr>\n      <th>546</th>\n      <td>2020</td>\n      <td>463</td>\n      <td>3</td>\n      <td>20200302817600</td>\n      <td>1</td>\n      <td>1327.45</td>\n      <td>1120070965</td>\n      <td>3</td>\n      <td>20200302817604</td>\n      <td>1153.39</td>\n      <td>...</td>\n      <td>0.0</td>\n      <td>1327.45</td>\n      <td>2210</td>\n      <td>0.0</td>\n      <td>0.0</td>\n      <td>0</td>\n      <td>69233.0</td>\n      <td>27420.0</td>\n      <td>463001</td>\n      <td>1120070965-3</td>\n    </tr>\n    <tr>\n      <th>547</th>\n      <td>2020</td>\n      <td>463</td>\n      <td>3</td>\n      <td>20200302817600</td>\n      <td>1</td>\n      <td>1327.45</td>\n      <td>1120070965</td>\n      <td>4</td>\n      <td>20200302817603</td>\n      <td>1109.87</td>\n      <td>...</td>\n      <td>0.0</td>\n      <td>1327.45</td>\n      <td>2210</td>\n      <td>0.0</td>\n      <td>0.0</td>\n      <td>0</td>\n      <td>69233.0</td>\n      <td>27420.0</td>\n      <td>463001</td>\n      <td>1120070965-4</td>\n    </tr>\n    <tr>\n      <th>1969</th>\n      <td>2020</td>\n      <td>1485</td>\n      <td>3</td>\n      <td>20190303971100</td>\n      <td>1</td>\n      <td>537.29</td>\n      <td>1120099024</td>\n      <td>7</td>\n      <td>20190303971107</td>\n      <td>668.92</td>\n      <td>...</td>\n      <td>0.0</td>\n      <td>537.29</td>\n      <td>0</td>\n      <td>0.0</td>\n      <td>0.0</td>\n      <td>0</td>\n      <td>128727.0</td>\n      <td>51020.0</td>\n      <td>1091001</td>\n      <td>1120099024-2</td>\n    </tr>\n    <tr>\n      <th>3726</th>\n      <td>2020</td>\n      <td>2619</td>\n      <td>3</td>\n      <td>20190106442600</td>\n      <td>1</td>\n      <td>197.20</td>\n      <td>1120158841</td>\n      <td>4</td>\n      <td>20190106442604</td>\n      <td>185.53</td>\n      <td>...</td>\n      <td>0.0</td>\n      <td>197.20</td>\n      <td>5923</td>\n      <td>0.0</td>\n      <td>0.0</td>\n      <td>0</td>\n      <td>34773.0</td>\n      <td>28450.0</td>\n      <td>2619001</td>\n      <td>1120158841-2</td>\n    </tr>\n    <tr>\n      <th>4589</th>\n      <td>2020</td>\n      <td>3276</td>\n      <td>3</td>\n      <td>0</td>\n      <td>1</td>\n      <td>360.93</td>\n      <td>20002814</td>\n      <td>5</td>\n      <td>0</td>\n      <td>403.53</td>\n      <td>...</td>\n      <td>0.0</td>\n      <td>360.93</td>\n      <td>0</td>\n      <td>0.0</td>\n      <td>0.0</td>\n      <td>0</td>\n      <td>114229.0</td>\n      <td>40710.0</td>\n      <td>2959001</td>\n      <td>20002814-2</td>\n    </tr>\n    <tr>\n      <th>...</th>\n      <td>...</td>\n      <td>...</td>\n      <td>...</td>\n      <td>...</td>\n      <td>...</td>\n      <td>...</td>\n      <td>...</td>\n      <td>...</td>\n      <td>...</td>\n      <td>...</td>\n      <td>...</td>\n      <td>...</td>\n      <td>...</td>\n      <td>...</td>\n      <td>...</td>\n      <td>...</td>\n      <td>...</td>\n      <td>...</td>\n      <td>...</td>\n      <td>...</td>\n      <td>...</td>\n    </tr>\n    <tr>\n      <th>155866</th>\n      <td>2020</td>\n      <td>90419</td>\n      <td>3</td>\n      <td>20190301965800</td>\n      <td>1</td>\n      <td>842.48</td>\n      <td>1120048939</td>\n      <td>7</td>\n      <td>20190301965807</td>\n      <td>734.94</td>\n      <td>...</td>\n      <td>0.0</td>\n      <td>842.48</td>\n      <td>0</td>\n      <td>0.0</td>\n      <td>0.0</td>\n      <td>0</td>\n      <td>83039.0</td>\n      <td>50180.0</td>\n      <td>90347001</td>\n      <td>1120048939-4</td>\n    </tr>\n    <tr>\n      <th>155867</th>\n      <td>2020</td>\n      <td>90419</td>\n      <td>3</td>\n      <td>20190301965800</td>\n      <td>1</td>\n      <td>842.48</td>\n      <td>1120048939</td>\n      <td>8</td>\n      <td>20190301965806</td>\n      <td>787.46</td>\n      <td>...</td>\n      <td>0.0</td>\n      <td>842.48</td>\n      <td>0</td>\n      <td>0.0</td>\n      <td>0.0</td>\n      <td>0</td>\n      <td>83039.0</td>\n      <td>50180.0</td>\n      <td>90347001</td>\n      <td>1120048939-5</td>\n    </tr>\n    <tr>\n      <th>156086</th>\n      <td>2020</td>\n      <td>90546</td>\n      <td>3</td>\n      <td>0</td>\n      <td>1</td>\n      <td>643.99</td>\n      <td>20099557</td>\n      <td>4</td>\n      <td>0</td>\n      <td>455.16</td>\n      <td>...</td>\n      <td>0.0</td>\n      <td>643.99</td>\n      <td>0</td>\n      <td>0.0</td>\n      <td>0.0</td>\n      <td>0</td>\n      <td>41576.0</td>\n      <td>35600.0</td>\n      <td>90474001</td>\n      <td>20099557-2</td>\n    </tr>\n    <tr>\n      <th>156254</th>\n      <td>2020</td>\n      <td>90642</td>\n      <td>3</td>\n      <td>20181201914600</td>\n      <td>1</td>\n      <td>520.05</td>\n      <td>1120047632</td>\n      <td>6</td>\n      <td>20181201914606</td>\n      <td>632.25</td>\n      <td>...</td>\n      <td>0.0</td>\n      <td>520.05</td>\n      <td>0</td>\n      <td>0.0</td>\n      <td>0.0</td>\n      <td>0</td>\n      <td>110685.0</td>\n      <td>38990.0</td>\n      <td>90642001</td>\n      <td>1120047632-2</td>\n    </tr>\n    <tr>\n      <th>156566</th>\n      <td>2020</td>\n      <td>90817</td>\n      <td>3</td>\n      <td>20191201910400</td>\n      <td>1</td>\n      <td>502.45</td>\n      <td>1120048103</td>\n      <td>5</td>\n      <td>20191201910405</td>\n      <td>520.20</td>\n      <td>...</td>\n      <td>0.0</td>\n      <td>502.45</td>\n      <td>0</td>\n      <td>0.0</td>\n      <td>0.0</td>\n      <td>0</td>\n      <td>214505.0</td>\n      <td>42340.0</td>\n      <td>90817001</td>\n      <td>1120048103-2</td>\n    </tr>\n  </tbody>\n</table>\n<p>297 rows × 31 columns</p>\n</div>"
     },
     "metadata": {},
     "execution_count": 17
    }
   ],
   "source": [
    "p[p.offcutoff == 999999]\n",
    "# p.offcutoff.max()"
   ]
  },
  {
   "cell_type": "code",
   "execution_count": 29,
   "metadata": {},
   "outputs": [
    {
     "output_type": "execute_result",
     "data": {
      "text/plain": [
       "     offtotval  offcutoff  cutoff  spmfamunit  spmtotres  spmthresh  adjginc  \\\n",
       "546          0     999999  999999      463001    69233.0    27420.0        0   \n",
       "\n",
       "             cpsidp           cpsid  spmsnap  age  \n",
       "546  20200302817604  20200302817600        0   11  "
      ],
      "text/html": "<div>\n<style scoped>\n    .dataframe tbody tr th:only-of-type {\n        vertical-align: middle;\n    }\n\n    .dataframe tbody tr th {\n        vertical-align: top;\n    }\n\n    .dataframe thead th {\n        text-align: right;\n    }\n</style>\n<table border=\"1\" class=\"dataframe\">\n  <thead>\n    <tr style=\"text-align: right;\">\n      <th></th>\n      <th>offtotval</th>\n      <th>offcutoff</th>\n      <th>cutoff</th>\n      <th>spmfamunit</th>\n      <th>spmtotres</th>\n      <th>spmthresh</th>\n      <th>adjginc</th>\n      <th>cpsidp</th>\n      <th>cpsid</th>\n      <th>spmsnap</th>\n      <th>age</th>\n    </tr>\n  </thead>\n  <tbody>\n    <tr>\n      <th>546</th>\n      <td>0</td>\n      <td>999999</td>\n      <td>999999</td>\n      <td>463001</td>\n      <td>69233.0</td>\n      <td>27420.0</td>\n      <td>0</td>\n      <td>20200302817604</td>\n      <td>20200302817600</td>\n      <td>0</td>\n      <td>11</td>\n    </tr>\n  </tbody>\n</table>\n</div>"
     },
     "metadata": {},
     "execution_count": 29
    }
   ],
   "source": [
    "p[p.fam == \"1120070965-3\"][[\"offtotval\", \"offcutoff\", \"cutoff\", \"spmfamunit\", \"spmtotres\", \"spmthresh\", \"adjginc\", \"cpsidp\", \"cpsid\", \"spmsnap\", \"age\"]]"
   ]
  },
  {
   "cell_type": "code",
   "execution_count": 34,
   "metadata": {},
   "outputs": [
    {
     "output_type": "execute_result",
     "data": {
      "text/plain": [
       "        offtotval  offcutoff  cutoff  spmfamunit  spmtotres  spmthresh  \\\n",
       "155860      42200      26017   26017    90347001    83039.0    50180.0   \n",
       "155861      42200      26017   26017    90347001    83039.0    50180.0   \n",
       "155862      42200      26017   26017    90347001    83039.0    50180.0   \n",
       "155863      42200      26017   26017    90347001    83039.0    50180.0   \n",
       "155864      50000      13300   13300    90347001    83039.0    50180.0   \n",
       "155865          0     999999  999999    90347001    83039.0    50180.0   \n",
       "155866          0     999999  999999    90347001    83039.0    50180.0   \n",
       "155867          0     999999  999999    90347001    83039.0    50180.0   \n",
       "\n",
       "        adjginc          cpsidp           cpsid  spmsnap  age  famid  \n",
       "155860    41487  20190301965801  20190301965800        0   31      1  \n",
       "155861        0  20190301965805  20190301965800        0   12      1  \n",
       "155862        0  20190301965803  20190301965800        0    5      1  \n",
       "155863        0  20190301965802  20190301965800        0    4      1  \n",
       "155864    32000  20190301965804  20190301965800        0   30      2  \n",
       "155865        0  20190301965808  20190301965800        0   14      3  \n",
       "155866        0  20190301965807  20190301965800        0   13      4  \n",
       "155867        0  20190301965806  20190301965800        0    5      5  "
      ],
      "text/html": "<div>\n<style scoped>\n    .dataframe tbody tr th:only-of-type {\n        vertical-align: middle;\n    }\n\n    .dataframe tbody tr th {\n        vertical-align: top;\n    }\n\n    .dataframe thead th {\n        text-align: right;\n    }\n</style>\n<table border=\"1\" class=\"dataframe\">\n  <thead>\n    <tr style=\"text-align: right;\">\n      <th></th>\n      <th>offtotval</th>\n      <th>offcutoff</th>\n      <th>cutoff</th>\n      <th>spmfamunit</th>\n      <th>spmtotres</th>\n      <th>spmthresh</th>\n      <th>adjginc</th>\n      <th>cpsidp</th>\n      <th>cpsid</th>\n      <th>spmsnap</th>\n      <th>age</th>\n      <th>famid</th>\n    </tr>\n  </thead>\n  <tbody>\n    <tr>\n      <th>155860</th>\n      <td>42200</td>\n      <td>26017</td>\n      <td>26017</td>\n      <td>90347001</td>\n      <td>83039.0</td>\n      <td>50180.0</td>\n      <td>41487</td>\n      <td>20190301965801</td>\n      <td>20190301965800</td>\n      <td>0</td>\n      <td>31</td>\n      <td>1</td>\n    </tr>\n    <tr>\n      <th>155861</th>\n      <td>42200</td>\n      <td>26017</td>\n      <td>26017</td>\n      <td>90347001</td>\n      <td>83039.0</td>\n      <td>50180.0</td>\n      <td>0</td>\n      <td>20190301965805</td>\n      <td>20190301965800</td>\n      <td>0</td>\n      <td>12</td>\n      <td>1</td>\n    </tr>\n    <tr>\n      <th>155862</th>\n      <td>42200</td>\n      <td>26017</td>\n      <td>26017</td>\n      <td>90347001</td>\n      <td>83039.0</td>\n      <td>50180.0</td>\n      <td>0</td>\n      <td>20190301965803</td>\n      <td>20190301965800</td>\n      <td>0</td>\n      <td>5</td>\n      <td>1</td>\n    </tr>\n    <tr>\n      <th>155863</th>\n      <td>42200</td>\n      <td>26017</td>\n      <td>26017</td>\n      <td>90347001</td>\n      <td>83039.0</td>\n      <td>50180.0</td>\n      <td>0</td>\n      <td>20190301965802</td>\n      <td>20190301965800</td>\n      <td>0</td>\n      <td>4</td>\n      <td>1</td>\n    </tr>\n    <tr>\n      <th>155864</th>\n      <td>50000</td>\n      <td>13300</td>\n      <td>13300</td>\n      <td>90347001</td>\n      <td>83039.0</td>\n      <td>50180.0</td>\n      <td>32000</td>\n      <td>20190301965804</td>\n      <td>20190301965800</td>\n      <td>0</td>\n      <td>30</td>\n      <td>2</td>\n    </tr>\n    <tr>\n      <th>155865</th>\n      <td>0</td>\n      <td>999999</td>\n      <td>999999</td>\n      <td>90347001</td>\n      <td>83039.0</td>\n      <td>50180.0</td>\n      <td>0</td>\n      <td>20190301965808</td>\n      <td>20190301965800</td>\n      <td>0</td>\n      <td>14</td>\n      <td>3</td>\n    </tr>\n    <tr>\n      <th>155866</th>\n      <td>0</td>\n      <td>999999</td>\n      <td>999999</td>\n      <td>90347001</td>\n      <td>83039.0</td>\n      <td>50180.0</td>\n      <td>0</td>\n      <td>20190301965807</td>\n      <td>20190301965800</td>\n      <td>0</td>\n      <td>13</td>\n      <td>4</td>\n    </tr>\n    <tr>\n      <th>155867</th>\n      <td>0</td>\n      <td>999999</td>\n      <td>999999</td>\n      <td>90347001</td>\n      <td>83039.0</td>\n      <td>50180.0</td>\n      <td>0</td>\n      <td>20190301965806</td>\n      <td>20190301965800</td>\n      <td>0</td>\n      <td>5</td>\n      <td>5</td>\n    </tr>\n  </tbody>\n</table>\n</div>"
     },
     "metadata": {},
     "execution_count": 34
    }
   ],
   "source": [
    "p[p.cpsid == 20190301965800][[\"offtotval\", \"offcutoff\", \"cutoff\", \"spmfamunit\", \"spmtotres\", \"spmthresh\", \"adjginc\", \"cpsidp\", \"cpsid\", \"spmsnap\", \"age\", \"famid\"]]"
   ]
  },
  {
   "cell_type": "code",
   "execution_count": 30,
   "metadata": {},
   "outputs": [
    {
     "output_type": "execute_result",
     "data": {
      "text/plain": [
       "offcutoff    0.00188\n",
       "cutoff       0.00188\n",
       "dtype: float64"
      ]
     },
     "metadata": {},
     "execution_count": 30
    }
   ],
   "source": [
    "(p[[\"offcutoff\", \"cutoff\"]] == 999999).mean()"
   ]
  },
  {
   "cell_type": "code",
   "execution_count": 15,
   "metadata": {},
   "outputs": [
    {
     "output_type": "execute_result",
     "data": {
      "text/plain": [
       "1"
      ]
     },
     "metadata": {},
     "execution_count": 15
    }
   ],
   "source": [
    "f = p.groupby([\"fam\", \"offcutoff\", \"offtotval\"]).adjginc.sum().reset_index()\n",
    "f.groupby(\"fam\").size().max()"
   ]
  },
  {
   "cell_type": "code",
   "execution_count": 5,
   "metadata": {},
   "outputs": [
    {
     "output_type": "execute_result",
     "data": {
      "text/plain": [
       "        year  serial  month  cpsid  asecflag  asecwth  marbasecidh  pernum  \\\n",
       "157957  2020   91500      3      0         1   423.84     20100952       1   \n",
       "157958  2020   91500      3      0         1   423.84     20100952       2   \n",
       "\n",
       "        cpsidp  asecwt  ...  spmcaphous   spmwt  spmeitc  spmwic  spmheat  \\\n",
       "157957       0  423.84  ...         0.0  423.84        0     0.0      0.0   \n",
       "157958       0  761.16  ...         0.0  423.84        0     0.0      0.0   \n",
       "\n",
       "        spmsnap  spmtotres  spmthresh  spmfamunit         fam  \n",
       "157957        0    77447.0    27260.0    91500001  20100952-1  \n",
       "157958        0    77447.0    27260.0    91500001  20100952-1  \n",
       "\n",
       "[2 rows x 31 columns]"
      ],
      "text/html": "<div>\n<style scoped>\n    .dataframe tbody tr th:only-of-type {\n        vertical-align: middle;\n    }\n\n    .dataframe tbody tr th {\n        vertical-align: top;\n    }\n\n    .dataframe thead th {\n        text-align: right;\n    }\n</style>\n<table border=\"1\" class=\"dataframe\">\n  <thead>\n    <tr style=\"text-align: right;\">\n      <th></th>\n      <th>year</th>\n      <th>serial</th>\n      <th>month</th>\n      <th>cpsid</th>\n      <th>asecflag</th>\n      <th>asecwth</th>\n      <th>marbasecidh</th>\n      <th>pernum</th>\n      <th>cpsidp</th>\n      <th>asecwt</th>\n      <th>...</th>\n      <th>spmcaphous</th>\n      <th>spmwt</th>\n      <th>spmeitc</th>\n      <th>spmwic</th>\n      <th>spmheat</th>\n      <th>spmsnap</th>\n      <th>spmtotres</th>\n      <th>spmthresh</th>\n      <th>spmfamunit</th>\n      <th>fam</th>\n    </tr>\n  </thead>\n  <tbody>\n    <tr>\n      <th>157957</th>\n      <td>2020</td>\n      <td>91500</td>\n      <td>3</td>\n      <td>0</td>\n      <td>1</td>\n      <td>423.84</td>\n      <td>20100952</td>\n      <td>1</td>\n      <td>0</td>\n      <td>423.84</td>\n      <td>...</td>\n      <td>0.0</td>\n      <td>423.84</td>\n      <td>0</td>\n      <td>0.0</td>\n      <td>0.0</td>\n      <td>0</td>\n      <td>77447.0</td>\n      <td>27260.0</td>\n      <td>91500001</td>\n      <td>20100952-1</td>\n    </tr>\n    <tr>\n      <th>157958</th>\n      <td>2020</td>\n      <td>91500</td>\n      <td>3</td>\n      <td>0</td>\n      <td>1</td>\n      <td>423.84</td>\n      <td>20100952</td>\n      <td>2</td>\n      <td>0</td>\n      <td>761.16</td>\n      <td>...</td>\n      <td>0.0</td>\n      <td>423.84</td>\n      <td>0</td>\n      <td>0.0</td>\n      <td>0.0</td>\n      <td>0</td>\n      <td>77447.0</td>\n      <td>27260.0</td>\n      <td>91500001</td>\n      <td>20100952-1</td>\n    </tr>\n  </tbody>\n</table>\n<p>2 rows × 31 columns</p>\n</div>"
     },
     "metadata": {},
     "execution_count": 5
    }
   ],
   "source": [
    "p[p.fam == \"20100952-1\"]"
   ]
  },
  {
   "cell_type": "code",
   "execution_count": 2,
   "metadata": {},
   "outputs": [
    {
     "output_type": "execute_result",
     "data": {
      "text/plain": [
       "Index(['year', 'serial', 'month', 'cpsid', 'asecflag', 'asecwth',\n",
       "       'marbasecidh', 'pernum', 'cpsidp', 'asecwt', 'age', 'race',\n",
       "       'marbasecidp', 'famid', 'inctot', 'incwelfr', 'adjginc', 'offtotval',\n",
       "       'offcutoff', 'cutoff', 'spmlunch', 'spmcaphous', 'spmwt', 'spmeitc',\n",
       "       'spmwic', 'spmheat', 'spmsnap', 'spmtotres', 'spmthresh', 'spmfamunit',\n",
       "       'fam'],\n",
       "      dtype='object')"
      ]
     },
     "metadata": {},
     "execution_count": 2
    }
   ],
   "source": [
    "p.columns"
   ]
  },
  {
   "cell_type": "code",
   "execution_count": null,
   "metadata": {},
   "outputs": [],
   "source": [
    "def ubi_fpg()"
   ]
  },
  {
   "cell_type": "code",
   "execution_count": 59,
   "metadata": {},
   "outputs": [
    {
     "output_type": "execute_result",
     "data": {
      "text/plain": [
       "1"
      ]
     },
     "metadata": {},
     "execution_count": 59
    }
   ],
   "source": [
    "c.groupby(\"fam\").offcutoff.nunique().max()"
   ]
  },
  {
   "cell_type": "code",
   "execution_count": 55,
   "metadata": {},
   "outputs": [
    {
     "output_type": "execute_result",
     "data": {
      "text/plain": [
       "1"
      ]
     },
     "metadata": {},
     "execution_count": 55
    }
   ],
   "source": [
    "c.groupby(\"fam\").spmfamunit.nunique().max()"
   ]
  },
  {
   "cell_type": "code",
   "execution_count": 57,
   "metadata": {},
   "outputs": [
    {
     "output_type": "execute_result",
     "data": {
      "text/plain": [
       "8"
      ]
     },
     "metadata": {},
     "execution_count": 57
    }
   ],
   "source": [
    "c.groupby(\"spmfamunit\").fam.nunique().max()"
   ]
  },
  {
   "cell_type": "code",
   "execution_count": 29,
   "metadata": {},
   "outputs": [
    {
     "output_type": "execute_result",
     "data": {
      "text/plain": [
       "Index(['year', 'serial', 'month', 'cpsid', 'asecflag', 'asecwth', 'pernum',\n",
       "       'cpsidp', 'asecwt', 'age', 'race', 'famid', 'inctot', 'incwelfr',\n",
       "       'adjginc', 'offtotval', 'offcutoff', 'cutoff', 'spmlunch', 'spmcaphous',\n",
       "       'spmwt', 'spmeitc', 'spmwic', 'spmheat', 'spmsnap', 'spmtotres',\n",
       "       'spmthresh', 'spmfamunit'],\n",
       "      dtype='object')"
      ]
     },
     "metadata": {},
     "execution_count": 29
    }
   ],
   "source": [
    "c.columns"
   ]
  },
  {
   "cell_type": "code",
   "execution_count": null,
   "metadata": {},
   "outputs": [],
   "source": [
    "pd.read_csv()"
   ]
  },
  {
   "cell_type": "code",
   "execution_count": 60,
   "metadata": {},
   "outputs": [
    {
     "output_type": "execute_result",
     "data": {
      "text/plain": [
       "                 fam  offcutoff  offtotval\n",
       "118006  1120175155-1      17622      45015\n",
       "118007  1120175155-1      17622      45015\n",
       "118008  1120175155-2      13300      35007"
      ],
      "text/html": "<div>\n<style scoped>\n    .dataframe tbody tr th:only-of-type {\n        vertical-align: middle;\n    }\n\n    .dataframe tbody tr th {\n        vertical-align: top;\n    }\n\n    .dataframe thead th {\n        text-align: right;\n    }\n</style>\n<table border=\"1\" class=\"dataframe\">\n  <thead>\n    <tr style=\"text-align: right;\">\n      <th></th>\n      <th>fam</th>\n      <th>offcutoff</th>\n      <th>offtotval</th>\n    </tr>\n  </thead>\n  <tbody>\n    <tr>\n      <th>118006</th>\n      <td>1120175155-1</td>\n      <td>17622</td>\n      <td>45015</td>\n    </tr>\n    <tr>\n      <th>118007</th>\n      <td>1120175155-1</td>\n      <td>17622</td>\n      <td>45015</td>\n    </tr>\n    <tr>\n      <th>118008</th>\n      <td>1120175155-2</td>\n      <td>13300</td>\n      <td>35007</td>\n    </tr>\n  </tbody>\n</table>\n</div>"
     },
     "metadata": {},
     "execution_count": 60
    }
   ],
   "source": [
    "c[c.cpsid == 20200307030400][[\"fam\", \"offcutoff\", \"offtotval\"]]"
   ]
  },
  {
   "source": [
    "* Aggregate to family and SPM unit\n",
    "* Determine "
   ],
   "cell_type": "markdown",
   "metadata": {}
  },
  {
   "cell_type": "code",
   "execution_count": 22,
   "metadata": {},
   "outputs": [
    {
     "output_type": "execute_result",
     "data": {
      "text/plain": [
       "53081"
      ]
     },
     "metadata": {},
     "execution_count": 22
    }
   ],
   "source": [
    "c.groupby(\"cpsidp\").size().max()"
   ]
  },
  {
   "cell_type": "code",
   "execution_count": 7,
   "metadata": {},
   "outputs": [
    {
     "output_type": "execute_result",
     "data": {
      "text/plain": [
       "offcutoff\n",
       "12261      7520\n",
       "13300     18105\n",
       "15453     13728\n",
       "17120     17512\n",
       "17555       140\n",
       "17622      4172\n",
       "19998     10284\n",
       "20578     13035\n",
       "20598      4389\n",
       "25926     20400\n",
       "26017      2336\n",
       "26370      4816\n",
       "26801      6720\n",
       "30044       840\n",
       "30510     10030\n",
       "31275      4465\n",
       "31800      1415\n",
       "32263      2645\n",
       "33522       294\n",
       "34161      3756\n",
       "35239      1968\n",
       "35965      1878\n",
       "36576       312\n",
       "36721       798\n",
       "36757        91\n",
       "38262      1092\n",
       "39635       707\n",
       "40811       735\n",
       "41442       483\n",
       "41709        56\n",
       "42066       384\n",
       "42085        84\n",
       "42348       245\n",
       "43470       232\n",
       "44818       304\n",
       "45881       200\n",
       "46630       176\n",
       "47069        24\n",
       "47485        56\n",
       "49426       162\n",
       "51406       245\n",
       "51727       189\n",
       "53025       252\n",
       "54460       163\n",
       "55503        93\n",
       "56139        75\n",
       "56621        19\n",
       "56895        37\n",
       "999999      297\n",
       "dtype: int64"
      ]
     },
     "metadata": {},
     "execution_count": 7
    }
   ],
   "source": [
    "c.groupby(\"offcutoff\").size().sort_index()"
   ]
  },
  {
   "cell_type": "code",
   "execution_count": 9,
   "metadata": {},
   "outputs": [
    {
     "output_type": "execute_result",
     "data": {
      "text/plain": [
       "cutoff\n",
       "12261      7520\n",
       "13300     18105\n",
       "15453     13728\n",
       "17120     17512\n",
       "17555       140\n",
       "17622      4172\n",
       "19998     10284\n",
       "20578     13035\n",
       "20598      4389\n",
       "25926     20400\n",
       "26017      2336\n",
       "26370      4816\n",
       "26801      6720\n",
       "30044       840\n",
       "30510     10030\n",
       "31275      4465\n",
       "31800      1415\n",
       "32263      2645\n",
       "33522       294\n",
       "34161      3756\n",
       "35239      1968\n",
       "35965      1878\n",
       "36576       312\n",
       "36721       798\n",
       "36757        91\n",
       "38262      1092\n",
       "39635       707\n",
       "40811       735\n",
       "41442       483\n",
       "41709        56\n",
       "42066       384\n",
       "42085        84\n",
       "42348       245\n",
       "43470       232\n",
       "44818       304\n",
       "45881       200\n",
       "46630       176\n",
       "47069        24\n",
       "47485        56\n",
       "49426       162\n",
       "51406       245\n",
       "51727       189\n",
       "53025       252\n",
       "54460       163\n",
       "55503        93\n",
       "56139        75\n",
       "56621        19\n",
       "56895        37\n",
       "999999      297\n",
       "dtype: int64"
      ]
     },
     "metadata": {},
     "execution_count": 9
    }
   ],
   "source": [
    "c.groupby(\"cutoff\").size().sort_index()"
   ]
  }
 ]
}