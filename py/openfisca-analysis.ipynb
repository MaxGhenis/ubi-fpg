{
 "cells": [
  {
   "cell_type": "code",
   "execution_count": 1,
   "source": [
    "from openfisca_us import Microsimulation\n",
    "from openfisca_us.api import *\n",
    "from openfisca_us.entities import *\n",
    "from openfisca_us.tools.general import *\n",
    "from openfisca_us import reforms\n",
    "import numpy as np"
   ],
   "outputs": [],
   "metadata": {}
  },
  {
   "cell_type": "code",
   "execution_count": 2,
   "source": [
    "# Calculate poverty rate\n",
    "base = Microsimulation(year=2020)\n",
    "base.calc(\"in_poverty\", map_to=\"person\").mean()"
   ],
   "outputs": [
    {
     "output_type": "execute_result",
     "data": {
      "text/plain": [
       "0.10159000907591269"
      ]
     },
     "metadata": {},
     "execution_count": 2
    }
   ],
   "metadata": {}
  },
  {
   "cell_type": "code",
   "execution_count": 15,
   "source": [
    "class basic_income(Variable):\n",
    "    value_type = float\n",
    "    entity = TaxUnit\n",
    "    definition_period = YEAR\n",
    "    label = \"Basic income\"\n",
    "\n",
    "    def formula(tax_unit, period, parameters):\n",
    "        # Extract FPG parameter\n",
    "        fpg_params = parameters(period).poverty.fpg\n",
    "        # Includes first_person and additional_person\n",
    "        # Extract tax unit number of people\n",
    "        nb_people = tax_unit.nb_persons()\n",
    "        # Calculate FPG\n",
    "        fpg = fpg_params.first_person.contiguous_US + (nb_people - 1) * fpg_params.additional_person.contiguous_US\n",
    "        # Extract taxable income\n",
    "        taxable_income = tax_unit(\"taxable_income\", period)\n",
    "        # Calculate basic income phased out at 50%\n",
    "        return np.maximum(fpg - taxable_income * 0.5, 0)\n",
    "        # TODO: Make 50% a parameter"
   ],
   "outputs": [],
   "metadata": {}
  },
  {
   "cell_type": "code",
   "execution_count": 27,
   "source": [
    "class taxable_income(Variable):\n",
    "    value_type = float\n",
    "    entity = TaxUnit\n",
    "    definition_period = YEAR"
   ],
   "outputs": [],
   "metadata": {}
  },
  {
   "cell_type": "code",
   "execution_count": 28,
   "source": [
    "class SPM_unit_net_income(Variable):\n",
    "    value_type = float\n",
    "    entity = SPMUnit\n",
    "    label = u\"SPM unit net income\"\n",
    "    definition_period = YEAR\n",
    "\n",
    "    def formula(spm_unit, period):\n",
    "        INCOME_COMPONENTS = [\n",
    "            \"SPM_unit_total_income\",\n",
    "            \"SPM_unit_SNAP\",\n",
    "            \"SPM_unit_capped_housing_subsidy\",\n",
    "            \"SPM_unit_school_lunch_subsidy\",\n",
    "            \"SPM_unit_energy_subsidy\",\n",
    "            \"SPM_unit_WIC\",\n",
    "        ]\n",
    "        EXPENSE_COMPONENTS = [\n",
    "            \"SPM_unit_FICA\",\n",
    "            \"SPM_unit_federal_tax\",\n",
    "            \"SPM_unit_state_tax\",\n",
    "            \"SPM_unit_capped_work_childcare_expenses\",\n",
    "            \"SPM_unit_medical_expenses\",\n",
    "        ]\n",
    "        income = add(spm_unit, period, *INCOME_COMPONENTS)\n",
    "        expense = add(spm_unit, period, *EXPENSE_COMPONENTS)\n",
    "        basic_income = sum_contained_tax_units(\"basic_income\", spm_unit, period)\n",
    "        return income - expense + basic_income"
   ],
   "outputs": [],
   "metadata": {}
  },
  {
   "cell_type": "code",
   "execution_count": 29,
   "source": [
    "class reform(Reform):\n",
    "    def apply(self):\n",
    "        self.update_variable(SPM_unit_net_income)\n",
    "        self.add_variable(basic_income)\n",
    "        self.add_variable(taxable_income)\n",
    "\n",
    "# reform = reforms.restructure(SPM_unit_net_income), reforms.new_variable(basic_income)\n",
    "reform_sim = Microsimulation(reform, year=2020)\n",
    "from openfisca_us_data import RawCPS\n",
    "taxable_income_values = RawCPS.load(2020, \"tax_unit\").TAX_INC.values\n",
    "reform_sim.simulation.set_input(\"taxable_income\", 2020, taxable_income_values)"
   ],
   "outputs": [],
   "metadata": {}
  },
  {
   "cell_type": "code",
   "execution_count": 34,
   "source": [
    "reform_sim.df([\"SPM_unit_net_income\", \"taxable_income\", \"basic_income\"])"
   ],
   "outputs": [
    {
     "output_type": "execute_result",
     "data": {
      "text/html": [
       "<div>\n",
       "<style scoped>\n",
       "    .dataframe tbody tr th:only-of-type {\n",
       "        vertical-align: middle;\n",
       "    }\n",
       "\n",
       "    .dataframe tbody tr th {\n",
       "        vertical-align: top;\n",
       "    }\n",
       "\n",
       "    .dataframe thead th {\n",
       "        text-align: right;\n",
       "    }\n",
       "</style>\n",
       "<table border=\"1\" class=\"dataframe\">\n",
       "  <thead>\n",
       "    <tr style=\"text-align: right;\">\n",
       "      <th></th>\n",
       "      <th>SPM_unit_net_income</th>\n",
       "      <th>taxable_income</th>\n",
       "      <th>basic_income</th>\n",
       "      <th>weight</th>\n",
       "    </tr>\n",
       "  </thead>\n",
       "  <tbody>\n",
       "    <tr>\n",
       "      <th>0</th>\n",
       "      <td>90113.750000</td>\n",
       "      <td>98944.0</td>\n",
       "      <td>0.0</td>\n",
       "      <td>1552.900024</td>\n",
       "    </tr>\n",
       "    <tr>\n",
       "      <th>1</th>\n",
       "      <td>62220.000000</td>\n",
       "      <td>14589.0</td>\n",
       "      <td>5465.5</td>\n",
       "      <td>990.489990</td>\n",
       "    </tr>\n",
       "    <tr>\n",
       "      <th>2</th>\n",
       "      <td>43478.000000</td>\n",
       "      <td>24720.0</td>\n",
       "      <td>4880.0</td>\n",
       "      <td>1505.270020</td>\n",
       "    </tr>\n",
       "    <tr>\n",
       "      <th>3</th>\n",
       "      <td>27279.060547</td>\n",
       "      <td>0.0</td>\n",
       "      <td>12760.0</td>\n",
       "      <td>1430.699951</td>\n",
       "    </tr>\n",
       "    <tr>\n",
       "      <th>4</th>\n",
       "      <td>89555.000000</td>\n",
       "      <td>0.0</td>\n",
       "      <td>12760.0</td>\n",
       "      <td>1133.369995</td>\n",
       "    </tr>\n",
       "    <tr>\n",
       "      <th>...</th>\n",
       "      <td>...</td>\n",
       "      <td>...</td>\n",
       "      <td>...</td>\n",
       "      <td>...</td>\n",
       "    </tr>\n",
       "    <tr>\n",
       "      <th>82193</th>\n",
       "      <td>NaN</td>\n",
       "      <td>0.0</td>\n",
       "      <td>21720.0</td>\n",
       "      <td>NaN</td>\n",
       "    </tr>\n",
       "    <tr>\n",
       "      <th>82194</th>\n",
       "      <td>NaN</td>\n",
       "      <td>73783.0</td>\n",
       "      <td>0.0</td>\n",
       "      <td>NaN</td>\n",
       "    </tr>\n",
       "    <tr>\n",
       "      <th>82195</th>\n",
       "      <td>NaN</td>\n",
       "      <td>0.0</td>\n",
       "      <td>26200.0</td>\n",
       "      <td>NaN</td>\n",
       "    </tr>\n",
       "    <tr>\n",
       "      <th>82196</th>\n",
       "      <td>NaN</td>\n",
       "      <td>0.0</td>\n",
       "      <td>12760.0</td>\n",
       "      <td>NaN</td>\n",
       "    </tr>\n",
       "    <tr>\n",
       "      <th>82197</th>\n",
       "      <td>NaN</td>\n",
       "      <td>102751.0</td>\n",
       "      <td>0.0</td>\n",
       "      <td>NaN</td>\n",
       "    </tr>\n",
       "  </tbody>\n",
       "</table>\n",
       "<p>82198 rows × 4 columns</p>\n",
       "</div>"
      ],
      "text/plain": [
       "            weight  SPM_unit_net_income  taxable_income  basic_income\n",
       "0      1552.900024         90113.750000         98944.0           0.0\n",
       "1       990.489990         62220.000000         14589.0        5465.5\n",
       "2      1505.270020         43478.000000         24720.0        4880.0\n",
       "3      1430.699951         27279.060547             0.0       12760.0\n",
       "4      1133.369995         89555.000000             0.0       12760.0\n",
       "...            ...                  ...             ...           ...\n",
       "82193          NaN                  NaN             0.0       21720.0\n",
       "82194          NaN                  NaN         73783.0           0.0\n",
       "82195          NaN                  NaN             0.0       26200.0\n",
       "82196          NaN                  NaN             0.0       12760.0\n",
       "82197          NaN                  NaN        102751.0           0.0\n",
       "\n",
       "[82198 rows x 4 columns]"
      ]
     },
     "metadata": {},
     "execution_count": 34
    }
   ],
   "metadata": {}
  },
  {
   "cell_type": "code",
   "execution_count": 33,
   "source": [
    "gain = reform_sim.calc(\"SPM_unit_net_income\") - base.calc(\"SPM_unit_net_income\")\n",
    "gain.groupby(base.calc(\"SPM_unit_net_income\").decile_rank()).mean()"
   ],
   "outputs": [
    {
     "output_type": "execute_result",
     "data": {
      "text/plain": [
       "1.0      6950.139729\n",
       "2.0      7377.274381\n",
       "3.0      8676.671452\n",
       "4.0      9226.481163\n",
       "5.0      9980.518635\n",
       "6.0     10343.661848\n",
       "7.0     11180.844588\n",
       "8.0     11710.768067\n",
       "9.0     12154.836279\n",
       "10.0    12263.114358\n",
       "dtype: float64"
      ]
     },
     "metadata": {},
     "execution_count": 33
    }
   ],
   "metadata": {}
  },
  {
   "cell_type": "code",
   "execution_count": 30,
   "source": [
    "reform_sim.calc(\"SPM_unit_net_income\").mean() - base.calc(\"SPM_unit_net_income\").mean()"
   ],
   "outputs": [
    {
     "output_type": "execute_result",
     "data": {
      "text/plain": [
       "9986.52237030775"
      ]
     },
     "metadata": {},
     "execution_count": 30
    }
   ],
   "metadata": {}
  },
  {
   "cell_type": "code",
   "execution_count": 31,
   "source": [
    "reform_sim.calc(\"basic_income\").mean()"
   ],
   "outputs": [
    {
     "output_type": "execute_result",
     "data": {
      "text/plain": [
       "7837.700207688253"
      ]
     },
     "metadata": {},
     "execution_count": 31
    }
   ],
   "metadata": {}
  },
  {
   "cell_type": "code",
   "execution_count": null,
   "source": [],
   "outputs": [],
   "metadata": {}
  }
 ],
 "metadata": {
  "orig_nbformat": 4,
  "language_info": {
   "name": "python",
   "version": "3.8.11",
   "mimetype": "text/x-python",
   "codemirror_mode": {
    "name": "ipython",
    "version": 3
   },
   "pygments_lexer": "ipython3",
   "nbconvert_exporter": "python",
   "file_extension": ".py"
  },
  "kernelspec": {
   "name": "python3",
   "display_name": "Python 3.8.11 64-bit ('base': conda)"
  },
  "interpreter": {
   "hash": "4a68920d8e8856d089b03c157a7384bba62e0986489c1fa381bbe538cda0922c"
  }
 },
 "nbformat": 4,
 "nbformat_minor": 2
}